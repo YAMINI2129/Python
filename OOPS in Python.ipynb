{
 "cells": [
  {
   "cell_type": "code",
   "execution_count": 56,
   "id": "85d8feb1-cbe1-4a9e-8b6d-94d011c18493",
   "metadata": {},
   "outputs": [
    {
     "name": "stdout",
     "output_type": "stream",
     "text": [
      "Defaulting to user installation because normal site-packages is not writeable\n",
      "Requirement already satisfied: virtualenv in c:\\users\\admin\\appdata\\roaming\\python\\python312\\site-packages (20.26.3)\n",
      "Requirement already satisfied: distlib<1,>=0.3.7 in c:\\users\\admin\\appdata\\roaming\\python\\python312\\site-packages (from virtualenv) (0.3.8)\n",
      "Requirement already satisfied: filelock<4,>=3.12.2 in c:\\programdata\\anaconda3\\lib\\site-packages (from virtualenv) (3.13.1)\n",
      "Requirement already satisfied: platformdirs<5,>=3.9.1 in c:\\programdata\\anaconda3\\lib\\site-packages (from virtualenv) (3.10.0)\n",
      "Note: you may need to restart the kernel to use updated packages.\n"
     ]
    }
   ],
   "source": [
    "pip install virtualenv"
   ]
  },
  {
   "cell_type": "code",
   "execution_count": 57,
   "id": "c3dea81c-a5f2-4074-a7b1-6acd005c89b6",
   "metadata": {},
   "outputs": [],
   "source": [
    "#create class\n",
    "class phone:\n",
    "    def playing_game(self):\n",
    "        print(\"i'm playing game\")\n",
    "    def make_call(self):\n",
    "        print(\"making a call\")"
   ]
  },
  {
   "cell_type": "code",
   "execution_count": 58,
   "id": "e073b03c-0084-47f5-92ac-1af7b95053c9",
   "metadata": {},
   "outputs": [],
   "source": [
    "# object creation\n",
    "p1=phone()"
   ]
  },
  {
   "cell_type": "code",
   "execution_count": 59,
   "id": "a7c0e33c-9581-4861-8814-2ab0cf5c2c8b",
   "metadata": {},
   "outputs": [
    {
     "name": "stdout",
     "output_type": "stream",
     "text": [
      "i'm playing game\n"
     ]
    }
   ],
   "source": [
    "p1.playing_game()"
   ]
  },
  {
   "cell_type": "code",
   "execution_count": 60,
   "id": "d7c81bf6-e8cc-4e60-9160-57475415f221",
   "metadata": {},
   "outputs": [
    {
     "name": "stdout",
     "output_type": "stream",
     "text": [
      "making a call\n"
     ]
    }
   ],
   "source": [
    "p1.make_call()"
   ]
  },
  {
   "cell_type": "code",
   "execution_count": 61,
   "id": "dd4129fc-dfe5-4a8d-932d-fc4d2e0e7e83",
   "metadata": {},
   "outputs": [],
   "source": [
    "class phone:\n",
    "    def playing_game(self):\n",
    "        print(\"i'm playing game\")\n",
    "    def make_call(self):\n",
    "        print(\"making a call\")\n",
    "\n",
    "    def assign_color(self, color):\n",
    "        self.color=color\n",
    "    def assign_cost(self, cost):\n",
    "        self.cost=cost\n",
    "    def show_color(self):\n",
    "        return self.color\n",
    "    def show_cost(self):\n",
    "        return self.cost\n",
    "        "
   ]
  },
  {
   "cell_type": "code",
   "execution_count": 62,
   "id": "5303ce58-794a-4b30-aa0f-d458985181ec",
   "metadata": {},
   "outputs": [],
   "source": [
    "p2 = phone()"
   ]
  },
  {
   "cell_type": "code",
   "execution_count": 63,
   "id": "c56c8599-eece-488d-a485-472188baa81a",
   "metadata": {},
   "outputs": [],
   "source": [
    "p2.assign_color(\"red\")\n",
    "p2.assign_cost(50000)"
   ]
  },
  {
   "cell_type": "code",
   "execution_count": 64,
   "id": "94ea7662-14c4-4552-8fda-494e169fc8ec",
   "metadata": {},
   "outputs": [
    {
     "data": {
      "text/plain": [
       "'red'"
      ]
     },
     "execution_count": 64,
     "metadata": {},
     "output_type": "execute_result"
    }
   ],
   "source": [
    "p2.show_color()"
   ]
  },
  {
   "cell_type": "code",
   "execution_count": 65,
   "id": "f83b682a-410e-4c8c-a3eb-622b0f18f1b3",
   "metadata": {},
   "outputs": [
    {
     "data": {
      "text/plain": [
       "50000"
      ]
     },
     "execution_count": 65,
     "metadata": {},
     "output_type": "execute_result"
    }
   ],
   "source": [
    "p2.show_cost()"
   ]
  },
  {
   "cell_type": "code",
   "execution_count": 66,
   "id": "776c6af6-9db8-4db9-8ddc-3c102ed33f0e",
   "metadata": {},
   "outputs": [],
   "source": [
    "class Employee:\n",
    "    def __init__(self, name, age, salary, gender):\n",
    "        self.name= name\n",
    "        self.age= age\n",
    "        self.salary= salary\n",
    "        self.gender= gender\n",
    "    def employee_details(self):\n",
    "        print(\"Name of employee is\", self.name)\n",
    "        print(\"Age of employee is\", self.age)\n",
    "        print(\"salary of employee is\", self.salary)\n",
    "        print(\"gender of employee is\", self.gender)\n",
    "        "
   ]
  },
  {
   "cell_type": "code",
   "execution_count": 67,
   "id": "4f52270c-87b1-4a6f-9214-776cfb76b1d6",
   "metadata": {},
   "outputs": [],
   "source": [
    "e1= Employee(\"Yam\", 21, 100000, \"female\")"
   ]
  },
  {
   "cell_type": "code",
   "execution_count": 68,
   "id": "305dfcdb-6374-40ee-90fa-c0e5279c3af2",
   "metadata": {},
   "outputs": [
    {
     "name": "stdout",
     "output_type": "stream",
     "text": [
      "Name of employee is Yam\n",
      "Age of employee is 21\n",
      "salary of employee is 100000\n",
      "gender of employee is female\n"
     ]
    }
   ],
   "source": [
    "e1.employee_details()"
   ]
  },
  {
   "cell_type": "code",
   "execution_count": 69,
   "id": "cc350a2b-7e8a-4913-8308-4de91af26b96",
   "metadata": {},
   "outputs": [
    {
     "name": "stdout",
     "output_type": "stream",
     "text": [
      "I am a Vechicle\n",
      "Mileage of vechicle is 500\n",
      "Cost of Vechicle is 600\n"
     ]
    }
   ],
   "source": [
    "# inheritance\n",
    "class Vechicle:\n",
    "    def __init__(self, mileage, cost):\n",
    "        self.mileage= mileage\n",
    "        self.cost= cost\n",
    "    def show_detail(self):\n",
    "        print(\"I am a Vechicle\")\n",
    "        print(\"Mileage of vechicle is\", self.mileage)\n",
    "        print(\"Cost of Vechicle is\", self.cost)\n",
    "\n",
    "v1=Vechicle(500, 600)\n",
    "v1.show_detail()\n"
   ]
  },
  {
   "cell_type": "code",
   "execution_count": 70,
   "id": "3842d1e4-c69a-4366-9f82-eae29abb391e",
   "metadata": {},
   "outputs": [],
   "source": [
    "class car(Vechicle):\n",
    "        def show_car(self):\n",
    "            print(\"I am a car\")\n",
    "            "
   ]
  },
  {
   "cell_type": "code",
   "execution_count": 71,
   "id": "2b342f28-4c61-4dd4-b933-0c087af43b49",
   "metadata": {},
   "outputs": [],
   "source": [
    "c1= car(100, 500)"
   ]
  },
  {
   "cell_type": "code",
   "execution_count": 72,
   "id": "c7a9b3ed-358b-434c-8949-603a8bd1ac7d",
   "metadata": {},
   "outputs": [
    {
     "name": "stdout",
     "output_type": "stream",
     "text": [
      "I am a Vechicle\n",
      "Mileage of vechicle is 100\n",
      "Cost of Vechicle is 500\n"
     ]
    }
   ],
   "source": [
    "c1.show_detail()"
   ]
  },
  {
   "cell_type": "code",
   "execution_count": null,
   "id": "f99ed168-d47f-4f90-82c7-4fea1add8d50",
   "metadata": {},
   "outputs": [],
   "source": []
  },
  {
   "cell_type": "code",
   "execution_count": null,
   "id": "e44eed5a-30f7-4f96-b36c-ec45bcfad76c",
   "metadata": {},
   "outputs": [],
   "source": []
  }
 ],
 "metadata": {
  "kernelspec": {
   "display_name": "Python 3 (ipykernel)",
   "language": "python",
   "name": "python3"
  },
  "language_info": {
   "codemirror_mode": {
    "name": "ipython",
    "version": 3
   },
   "file_extension": ".py",
   "mimetype": "text/x-python",
   "name": "python",
   "nbconvert_exporter": "python",
   "pygments_lexer": "ipython3",
   "version": "3.12.4"
  }
 },
 "nbformat": 4,
 "nbformat_minor": 5
}
