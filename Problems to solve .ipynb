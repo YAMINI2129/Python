{
 "cells": [
  {
   "cell_type": "code",
   "execution_count": 4,
   "id": "0b715475-ef0e-42bb-b3cc-9565e6d977f6",
   "metadata": {},
   "outputs": [
    {
     "name": "stdin",
     "output_type": "stream",
     "text": [
      "Enter the first number:  5\n",
      "Enter the second number:  2\n"
     ]
    },
    {
     "name": "stdout",
     "output_type": "stream",
     "text": [
      "Sum: 7\n",
      "Difference: 3\n",
      "Product: 10\n",
      "Quotient: 2\n",
      "Remainder: 1\n"
     ]
    }
   ],
   "source": [
    "#1. ARITHMETIC OPERATION BETWEEN 2 NUMBERS\n",
    "# Take input from the user\n",
    "num1 = int(input(\"Enter the first number: \"))\n",
    "num2 = int(input(\"Enter the second number: \"))\n",
    "# Perform arithmetic operations\n",
    "sum_result = num1 + num2\n",
    "difference = num1 - num2\n",
    "product = num1 * num2\n",
    "quotient = num1 // num2\n",
    "remainder = num1 % num2\n",
    "# Display results\n",
    "print(f\"Sum: {sum_result}\")\n",
    "print(f\"Difference: {difference}\")\n",
    "print(f\"Product: {product}\")\n",
    "print(f\"Quotient: {quotient}\")\n",
    "print(f\"Remainder: {remainder}\")"
   ]
  },
  {
   "cell_type": "code",
   "execution_count": 5,
   "id": "f656d54d-105e-45ac-b4f5-54502b38ee6a",
   "metadata": {},
   "outputs": [
    {
     "name": "stdin",
     "output_type": "stream",
     "text": [
      "Enter the first number:  6\n",
      "Enter the second number:  3\n"
     ]
    },
    {
     "name": "stdout",
     "output_type": "stream",
     "text": [
      "The first number is greater than the second number.\n"
     ]
    }
   ],
   "source": [
    "# 2. COMPARE 2 NUMBERS\n",
    "# Take input from the user\n",
    "num1 = int(input(\"Enter the first number: \"))\n",
    "num2 = int(input(\"Enter the second number: \"))\n",
    "# Compare the numbers\n",
    "if num1 > num2:\n",
    "    print(\"The first number is greater than the second number.\")\n",
    "elif num1 < num2:\n",
    "    print(\"The first number is less than the second number.\")\n",
    "else:\n",
    "    print(\"Both numbers are equal.\")"
   ]
  },
  {
   "cell_type": "code",
   "execution_count": 10,
   "id": "2ba7c7fb-222f-4ba8-a0e5-157afbf8ce09",
   "metadata": {},
   "outputs": [
    {
     "name": "stdin",
     "output_type": "stream",
     "text": [
      "Enter the element to check:  25\n"
     ]
    },
    {
     "name": "stdout",
     "output_type": "stream",
     "text": [
      "25 does not exist in the list.\n"
     ]
    }
   ],
   "source": [
    "# 3. CHECK THE ELEMENT EXIST IN LIST OR NOT\n",
    "# Define a list\n",
    "my_list = [10, 20, 30, 40, 50]\n",
    "# Take input from the user\n",
    "element = int(input(\"Enter the element to check: \"))\n",
    "# Check if the element exists in the list\n",
    "if element in my_list:\n",
    "    print(f\"{element} exists in the list.\")\n",
    "else:\n",
    "    print(f\"{element} does not exist in the list.\")"
   ]
  },
  {
   "cell_type": "code",
   "execution_count": 11,
   "id": "3bce2be3-ea39-467b-a89f-dcd57f3acbb8",
   "metadata": {},
   "outputs": [
    {
     "name": "stdin",
     "output_type": "stream",
     "text": [
      "Enter a number:  7\n"
     ]
    },
    {
     "name": "stdout",
     "output_type": "stream",
     "text": [
      "7 is odd.\n"
     ]
    }
   ],
   "source": [
    "# 4. CHECK THE NUMBER IS EVEN OR ODD\n",
    "# Take input from the user\n",
    "num = int(input(\"Enter a number: \"))\n",
    "# Check if the number is even or odd\n",
    "if num % 2 == 0:\n",
    "    print(f\"{num} is even.\")\n",
    "else:\n",
    "    print(f\"{num} is odd.\")"
   ]
  },
  {
   "cell_type": "code",
   "execution_count": 12,
   "id": "3894555c-d158-46d4-84ea-698385c7728e",
   "metadata": {},
   "outputs": [
    {
     "name": "stdin",
     "output_type": "stream",
     "text": [
      "Enter a grade (A, B, C, D, F):  B\n"
     ]
    },
    {
     "name": "stdout",
     "output_type": "stream",
     "text": [
      "Good\n"
     ]
    }
   ],
   "source": [
    "# 5. GRADE TO MESSAGE\n",
    "# Take grade input from the user\n",
    "grade = input(\"Enter a grade (A, B, C, D, F): \").upper()\n",
    "# Check the grade and print the message\n",
    "if grade == \"A\":\n",
    "    print(\"Excellent\")\n",
    "elif grade == \"B\":\n",
    "    print(\"Good\")\n",
    "elif grade == \"C\":\n",
    "    print(\"Average\")\n",
    "elif grade == \"D\":\n",
    "    print(\"Poor\")\n",
    "elif grade == \"F\":\n",
    "    print(\"Fail\")\n",
    "else:\n",
    "    print(\"Invalid grade entered.\")"
   ]
  },
  {
   "cell_type": "code",
   "execution_count": 13,
   "id": "0181715d-7f33-4798-909a-4aacba6b0c58",
   "metadata": {},
   "outputs": [
    {
     "name": "stdin",
     "output_type": "stream",
     "text": [
      "Enter your age:  21\n"
     ]
    },
    {
     "name": "stdout",
     "output_type": "stream",
     "text": [
      "Adult\n"
     ]
    }
   ],
   "source": [
    "# 6.AGE TO CATEGORY\n",
    "# Take age input from the user\n",
    "age = int(input(\"Enter your age: \"))\n",
    "# Determine the category based on age\n",
    "if age < 12:\n",
    "    print(\"Child\")\n",
    "elif 12 <= age < 18:\n",
    "    print(\"Teenager\")\n",
    "elif 18 <= age <= 60:\n",
    "    print(\"Adult\")\n",
    "else:\n",
    "    print(\"Senior\")"
   ]
  },
  {
   "cell_type": "code",
   "execution_count": 15,
   "id": "ace09840-30ba-4035-aa81-edc0a21eaae3",
   "metadata": {},
   "outputs": [
    {
     "name": "stdout",
     "output_type": "stream",
     "text": [
      "1\n",
      "2\n",
      "3\n",
      "4\n",
      "5\n",
      "6\n",
      "7\n",
      "8\n",
      "9\n",
      "10\n"
     ]
    }
   ],
   "source": [
    "#7. NUMBER FROM 1 TO 10 USING WHILE LOOP\n",
    "# Initialize the counter\n",
    "i = 1\n",
    "# Use a while loop to print numbers from 1 to 10\n",
    "while i <= 10:\n",
    "    print(i)\n",
    "    i += 1"
   ]
  },
  {
   "cell_type": "code",
   "execution_count": 16,
   "id": "c9208e32-fe86-4199-80b9-c8f3bfd6133e",
   "metadata": {},
   "outputs": [
    {
     "name": "stdin",
     "output_type": "stream",
     "text": [
      "Enter a number:  6\n"
     ]
    },
    {
     "name": "stdout",
     "output_type": "stream",
     "text": [
      "You entered: 6\n"
     ]
    },
    {
     "name": "stdin",
     "output_type": "stream",
     "text": [
      "Enter a number:  3\n"
     ]
    },
    {
     "name": "stdout",
     "output_type": "stream",
     "text": [
      "You entered: 3\n"
     ]
    },
    {
     "name": "stdin",
     "output_type": "stream",
     "text": [
      "Enter a number:  2\n"
     ]
    },
    {
     "name": "stdout",
     "output_type": "stream",
     "text": [
      "You entered: 2\n"
     ]
    },
    {
     "name": "stdin",
     "output_type": "stream",
     "text": [
      "Enter a number:  1\n"
     ]
    },
    {
     "name": "stdout",
     "output_type": "stream",
     "text": [
      "You entered: 1\n"
     ]
    },
    {
     "name": "stdin",
     "output_type": "stream",
     "text": [
      "Enter a number:  0\n"
     ]
    },
    {
     "name": "stdout",
     "output_type": "stream",
     "text": [
      "You entered: 0\n"
     ]
    },
    {
     "name": "stdin",
     "output_type": "stream",
     "text": [
      "Enter a number:  5\n"
     ]
    },
    {
     "name": "stdout",
     "output_type": "stream",
     "text": [
      "You entered: 5\n"
     ]
    },
    {
     "name": "stdin",
     "output_type": "stream",
     "text": [
      "Enter a number:  -4\n"
     ]
    },
    {
     "name": "stdout",
     "output_type": "stream",
     "text": [
      "Negative number detected. Stopping the loop.\n"
     ]
    }
   ],
   "source": [
    "# 8. DETECT NEGATIVE NUMBER AND STOP\n",
    "while True:\n",
    "    num = int(input(\"Enter a number: \"))\n",
    "    if num < 0:\n",
    "        print(\"Negative number detected. Stopping the loop.\")\n",
    "        break\n",
    "    print(f\"You entered: {num}\")"
   ]
  },
  {
   "cell_type": "code",
   "execution_count": 19,
   "id": "fe038592-69d2-4ec2-8af3-c5a09a852688",
   "metadata": {},
   "outputs": [
    {
     "name": "stdout",
     "output_type": "stream",
     "text": [
      "The sum of the first 100 natural numbers is: 5050\n"
     ]
    }
   ],
   "source": [
    "# 9. SUM OF FIRST 100 NATURAL NUMBERS\n",
    "# Initialize variables\n",
    "i = 1\n",
    "total = 0\n",
    "# Use a while loop to calculate the sum\n",
    "while i <= 100:\n",
    "    total += i\n",
    "    i += 1\n",
    "\n",
    "print(f\"The sum of the first 100 natural numbers is: {total}\")"
   ]
  },
  {
   "cell_type": "code",
   "execution_count": 23,
   "id": "cc2491c4-055b-4350-9a43-140da85639d8",
   "metadata": {},
   "outputs": [
    {
     "name": "stdin",
     "output_type": "stream",
     "text": [
      "Guess the number (between 1 and 50):  20\n"
     ]
    },
    {
     "name": "stdout",
     "output_type": "stream",
     "text": [
      "Too low!\n"
     ]
    },
    {
     "name": "stdin",
     "output_type": "stream",
     "text": [
      "Guess the number (between 1 and 50):  30\n"
     ]
    },
    {
     "name": "stdout",
     "output_type": "stream",
     "text": [
      "Too low!\n"
     ]
    },
    {
     "name": "stdin",
     "output_type": "stream",
     "text": [
      "Guess the number (between 1 and 50):  40\n"
     ]
    },
    {
     "name": "stdout",
     "output_type": "stream",
     "text": [
      "Too high!\n"
     ]
    },
    {
     "name": "stdin",
     "output_type": "stream",
     "text": [
      "Guess the number (between 1 and 50):  35\n"
     ]
    },
    {
     "name": "stdout",
     "output_type": "stream",
     "text": [
      "Too low!\n"
     ]
    },
    {
     "name": "stdin",
     "output_type": "stream",
     "text": [
      "Guess the number (between 1 and 50):  39\n"
     ]
    },
    {
     "name": "stdout",
     "output_type": "stream",
     "text": [
      "Too high!\n"
     ]
    },
    {
     "name": "stdin",
     "output_type": "stream",
     "text": [
      "Guess the number (between 1 and 50):  38\n"
     ]
    },
    {
     "name": "stdout",
     "output_type": "stream",
     "text": [
      "Too high!\n"
     ]
    },
    {
     "name": "stdin",
     "output_type": "stream",
     "text": [
      "Guess the number (between 1 and 50):  36\n"
     ]
    },
    {
     "name": "stdout",
     "output_type": "stream",
     "text": [
      "Congratulations! Yamini... You guessed the correct number!\n"
     ]
    }
   ],
   "source": [
    "# 10. NUMBER GUESING GAME\n",
    "import random\n",
    "# Randomly select a number between 1 and 50\n",
    "secret_number = random.randint(1, 50)\n",
    "# Initialize a flag for the loop\n",
    "while True:\n",
    "    # Take user's guess\n",
    "    guess = int(input(\"Guess the number (between 1 and 50): \"))\n",
    "    # Check the guess\n",
    "    if guess < secret_number:\n",
    "        print(\"Too low!\")\n",
    "    elif guess > secret_number:\n",
    "        print(\"Too high!\")\n",
    "    else:\n",
    "        print(\"Congratulations! Yamini... You guessed the correct number!\")\n",
    "        break"
   ]
  },
  {
   "cell_type": "code",
   "execution_count": null,
   "id": "19e7a064-a7dd-4504-b849-62b19d04298b",
   "metadata": {},
   "outputs": [],
   "source": []
  }
 ],
 "metadata": {
  "kernelspec": {
   "display_name": "Python 3 (ipykernel)",
   "language": "python",
   "name": "python3"
  },
  "language_info": {
   "codemirror_mode": {
    "name": "ipython",
    "version": 3
   },
   "file_extension": ".py",
   "mimetype": "text/x-python",
   "name": "python",
   "nbconvert_exporter": "python",
   "pygments_lexer": "ipython3",
   "version": "3.12.4"
  }
 },
 "nbformat": 4,
 "nbformat_minor": 5
}
